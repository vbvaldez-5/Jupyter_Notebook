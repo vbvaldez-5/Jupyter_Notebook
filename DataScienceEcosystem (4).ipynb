{
 "cells": [
  {
   "cell_type": "markdown",
   "id": "80bb7924-d11a-4bb6-8df9-3f4f7d2c346e",
   "metadata": {},
   "source": [
    "# Data Science Tools and Ecosystem"
   ]
  },
  {
   "cell_type": "markdown",
   "id": "0974b95e-f896-4327-b184-3d7a67fdbc9a",
   "metadata": {},
   "source": [
    "In this notebook, Data Science Tools and Ecosystem are summarized"
   ]
  },
  {
   "cell_type": "markdown",
   "id": "887a3bb4-0da5-4df1-97d7-a012c493dacf",
   "metadata": {},
   "source": [
    "**Objectives:**\n",
    "* List popular languages for data science\n",
    "* Commonly used libraries used by data scientists\n",
    "* Data Science tools"
   ]
  },
  {
   "cell_type": "markdown",
   "id": "3947de17-315b-475c-b601-716c4e3df1e6",
   "metadata": {},
   "source": [
    "Some of the popular languages that Data Scientists use are:\n",
    "1. SQL\n",
    "2. R\n",
    "3. Python"
   ]
  },
  {
   "cell_type": "markdown",
   "id": "9649d994-09e9-4b34-b14f-1cfafa098339",
   "metadata": {},
   "source": [
    "Some of the commonly used libraries used by Data Scientists include:\n",
    "1. Pandas\n",
    "2. NumPy\n",
    "3. Matplotlib"
   ]
  },
  {
   "cell_type": "markdown",
   "id": "d8d2ca92-afc6-4815-9ada-7b54b477d5cb",
   "metadata": {},
   "source": [
    "| Data Science Tools |\n",
    "|:--------:|\n",
    "|  RStudio   | \n",
    "|  Apache Hadoop   | \n",
    "|  TensorFlow   |  "
   ]
  },
  {
   "cell_type": "markdown",
   "id": "a7abb8ba-e36d-4db9-a0f4-bcd59b3fb99e",
   "metadata": {},
   "source": [
    "### Below are a few examples of evaluating arithmetic expressions in Python"
   ]
  },
  {
   "cell_type": "code",
   "execution_count": 5,
   "id": "325added-a72c-43f4-831c-bbf10cbc7283",
   "metadata": {},
   "outputs": [
    {
     "data": {
      "text/plain": [
       "17"
      ]
     },
     "execution_count": 5,
     "metadata": {},
     "output_type": "execute_result"
    }
   ],
   "source": [
    "#this is a simple arithmetic expression to multiply then add integers\n",
    "(3*4)+5"
   ]
  },
  {
   "cell_type": "code",
   "execution_count": 7,
   "id": "758d1542-9948-48fa-b2e6-4212d19b8a7d",
   "metadata": {},
   "outputs": [
    {
     "data": {
      "text/plain": [
       "3.3333333333333335"
      ]
     },
     "execution_count": 7,
     "metadata": {},
     "output_type": "execute_result"
    }
   ],
   "source": [
    "#this will convert 200 minutes to hours by dividing by 60\n",
    "200/60"
   ]
  },
  {
   "cell_type": "markdown",
   "id": "47aff66d-4193-4404-875c-d241803ce3bc",
   "metadata": {},
   "source": [
    "## Author\n",
    "Vanessa Balingit Valdez"
   ]
  },
  {
   "cell_type": "code",
   "execution_count": null,
   "id": "d1d5d1b7-5ea8-4212-bef1-c7eeec37eb5d",
   "metadata": {},
   "outputs": [],
   "source": []
  }
 ],
 "metadata": {
  "kernelspec": {
   "display_name": "Python [conda env:base] *",
   "language": "python",
   "name": "conda-base-py"
  },
  "language_info": {
   "codemirror_mode": {
    "name": "ipython",
    "version": 3
   },
   "file_extension": ".py",
   "mimetype": "text/x-python",
   "name": "python",
   "nbconvert_exporter": "python",
   "pygments_lexer": "ipython3",
   "version": "3.12.7"
  }
 },
 "nbformat": 4,
 "nbformat_minor": 5
}
